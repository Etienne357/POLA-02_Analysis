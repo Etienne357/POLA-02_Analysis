{
 "cells": [
  {
   "cell_type": "code",
   "execution_count": null,
   "metadata": {},
   "outputs": [],
   "source": [
    "import pandas as pd\n",
    "import numpy as np\n",
    "import matplotlib.pyplot as plt\n",
    "from IPython.core.display import display, HTML\n",
    "display(HTML(\"<style>.container { width:80% !important; }</style>\"))"
   ]
  },
  {
   "cell_type": "code",
   "execution_count": null,
   "metadata": {},
   "outputs": [],
   "source": [
    "test_header = pd.read_csv(\"/home/michael/data_polar/POLA-02_2019-09-08_2019-09-09_summary_Header.csv\")\n",
    "test_trending = pd.read_csv(\"/home/michael/data_polar/POLA-02_2019-09-08_2019-09-09_summary_Trending.csv\")\n",
    "test_weather = pd.read_csv(\"/home/michael/data_polar/POLA-02_2019-09-08_2019-09-09_summary_Weather.csv\")"
   ]
  },
  {
   "cell_type": "code",
   "execution_count": null,
   "metadata": {},
   "outputs": [],
   "source": [
    "test_header.head()"
   ]
  },
  {
   "cell_type": "code",
   "execution_count": null,
   "metadata": {},
   "outputs": [],
   "source": [
    "test_trending.head()"
   ]
  },
  {
   "cell_type": "code",
   "execution_count": null,
   "metadata": {},
   "outputs": [],
   "source": [
    "test_weather.head()"
   ]
  },
  {
   "cell_type": "code",
   "execution_count": null,
   "metadata": {},
   "outputs": [],
   "source": [
    "plt.hist(test_header[\"NumTrackEvents\"],bins=30)\n",
    "plt.show"
   ]
  },
  {
   "cell_type": "code",
   "execution_count": null,
   "metadata": {},
   "outputs": [],
   "source": [
    "plt.plot(test_weather[\"OutdoorTemperature\"], test_weather[\"IndoorTemperature\"], 'bo')"
   ]
  },
  {
   "cell_type": "code",
   "execution_count": null,
   "metadata": {},
   "outputs": [],
   "source": [
    "plt.plot(test_trending[\"RateTrackEventsTheta0_10\"], test_trending[\"RateHitEvents\"], 'bo')"
   ]
  },
  {
   "cell_type": "code",
   "execution_count": null,
   "metadata": {},
   "outputs": [],
   "source": [
    "from sklearn import linear_model\n",
    "from sklearn.model_selection import train_test_split\n",
    "\n",
    "linreg = linear_model.LinearRegression()\n",
    "linreg.fit(test_trending[[\"RateTrackEventsTheta0_10\"]],test_trending.RateHitEvents)\n",
    "xnew = np.array([[15],[28]])\n",
    "Y_pred = linreg.predict(xnew)\n",
    "plt.plot(xnew,Y_pred, \"r-\")\n",
    "plt.plot(test_trending[[\"RateTrackEventsTheta0_10\"]], test_trending[\"RateHitEvents\"],'bo')\n",
    "#plt.axis([0,1.0,0, 5.0])\n",
    "plt.xlabel(r'RateTrackEventsTheta0_10')\n",
    "plt.ylabel(r'RateHitEvents')\n",
    "plt.title(r'Simple Linear Regression')\n",
    "plt.show()\n",
    "from sklearn.metrics import mean_squared_error, r2_score, mean_squared_log_error, mean_absolute_error\n",
    "\n",
    "print('The intercept alpha: \\n', linreg.intercept_)\n",
    "print('Coefficient beta (gradient) : \\n', linreg.coef_)"
   ]
  }
 ],
 "metadata": {
  "kernelspec": {
   "display_name": "Python 3",
   "language": "python",
   "name": "python3"
  },
  "language_info": {
   "codemirror_mode": {
    "name": "ipython",
    "version": 3
   },
   "file_extension": ".py",
   "mimetype": "text/x-python",
   "name": "python",
   "nbconvert_exporter": "python",
   "pygments_lexer": "ipython3",
   "version": "3.7.3"
  }
 },
 "nbformat": 4,
 "nbformat_minor": 2
}
