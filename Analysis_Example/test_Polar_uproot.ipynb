{
 "cells": [
  {
   "cell_type": "code",
   "execution_count": null,
   "metadata": {},
   "outputs": [],
   "source": [
    "import uproot\n",
    "import pandas as pd\n",
    "import matplotlib.pyplot as plt"
   ]
  },
  {
   "cell_type": "code",
   "execution_count": null,
   "metadata": {},
   "outputs": [],
   "source": [
    "load_trending = uproot.open(\"/home/michael/data_polar/all_data.root\")[\"Trending\"]\n",
    "load_header = uproot.open(\"/home/michael/data_polar/all_data.root\")[\"Header\"]\n",
    "load_weather = uproot.open(\"/home/michael/data_polar/all_data.root\")[\"Weather\"]"
   ]
  },
  {
   "cell_type": "code",
   "execution_count": null,
   "metadata": {},
   "outputs": [],
   "source": [
    "load_trending"
   ]
  },
  {
   "cell_type": "code",
   "execution_count": null,
   "metadata": {},
   "outputs": [],
   "source": [
    "trending_branches = [\"BinStart\", \"BinEnd\", \"RateHitEvents\", \"RateHitEventsErr\", \"RateTrackEvents\", \"RateTrackEventsErr\", \"RateTrackEventsTheta0_10\",\"RateTrackEventsTheta10_20\", \"RateTrackEventsTheta20_30\", \"RateTrackEventsTheta30_40\",\"RateTrackEventsTheta60_90\",\"FractionTrackEvents\",\"FractionTrackEventsErr\",\"IndoorTemperature\",\"OutdoorTemperature\", \"Pressure\",\"AvTOTBot\",\"AvTOTMid\",\"AvTOTTop\",\"UniqueRunId\"]\n",
    "header_branches = [\"RunNumber\",\"RunStart\",\"RunStop\",\"RunDuration\",\"NumEvents\",\"NumHitEvents\",\"NumTrackEvents\",\"NumNoHitEvents\",\"NumNoHitsEvents\",\"NumMalformedEvents\",\"Zbottom\",\"Zmiddle\",\"latitude\",\"longitude\",\"altitude\",\"nSatellites\",\"UniqueRunId\",\"DeadChMaskBot\",\"DeadChMaskMid\",\"rtcFake\"]\n",
    "weather_branches = [\"Seconds\",\"IndoorTemperature\",\"OutdoorTemperature\",\"Pressure\",\"UniqueRunId\"]"
   ]
  },
  {
   "cell_type": "code",
   "execution_count": null,
   "metadata": {},
   "outputs": [],
   "source": [
    "trending_data = load_trending.pandas.df(trending_branches)\n",
    "header_data = load_header.pandas.df(header_branches)\n",
    "weather_data = load_weather.pandas.df(weather_branches)"
   ]
  },
  {
   "cell_type": "code",
   "execution_count": null,
   "metadata": {},
   "outputs": [],
   "source": [
    "trending_data.head()"
   ]
  },
  {
   "cell_type": "code",
   "execution_count": null,
   "metadata": {},
   "outputs": [],
   "source": [
    "plt.hist(trending_data[\"RateTrackEventsTheta60_90\"],bins=60)\n",
    "plt.show"
   ]
  },
  {
   "cell_type": "code",
   "execution_count": null,
   "metadata": {},
   "outputs": [],
   "source": []
  }
 ],
 "metadata": {
  "kernelspec": {
   "display_name": "Python 3",
   "language": "python",
   "name": "python3"
  },
  "language_info": {
   "codemirror_mode": {
    "name": "ipython",
    "version": 3
   },
   "file_extension": ".py",
   "mimetype": "text/x-python",
   "name": "python",
   "nbconvert_exporter": "python",
   "pygments_lexer": "ipython3",
   "version": "3.7.3"
  }
 },
 "nbformat": 4,
 "nbformat_minor": 2
}
