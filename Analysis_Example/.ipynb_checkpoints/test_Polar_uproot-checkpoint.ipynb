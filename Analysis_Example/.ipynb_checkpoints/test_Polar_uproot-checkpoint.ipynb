{
 "cells": [
  {
   "cell_type": "code",
   "execution_count": 3,
   "metadata": {},
   "outputs": [],
   "source": [
    "import uproot\n",
    "import pandas as pd\n",
    "import matplotlib.pyplot as plt"
   ]
  },
  {
   "cell_type": "code",
   "execution_count": 4,
   "metadata": {},
   "outputs": [],
   "source": [
    "test1 = uproot.open(\"/home/michael/Polar_Analysis/POLA-02_2019-09-30_2019-10-01_summary.root\")[\"Trending\"]\n",
    "test2 = uproot.open(\"/home/michael/Polar_Analysis/POLA-02_2019-10-01_2019-10-02_summary.root\")[\"Trending\"]\n",
    "test3 = uproot.open(\"/home/michael/Polar_Analysis/POLA-02_2019-10-02_2019-10-03_summary.root\")[\"Trending\"]"
   ]
  },
  {
   "cell_type": "code",
   "execution_count": 17,
   "metadata": {},
   "outputs": [],
   "source": [
    "Trending_branches = [\"BinStart\", \"BinEnd\", \"RateHitEvents\", \"RateHitEventsErr\", \"RateTrackEvents\", \"RateTrackEventsErr\", \"RateTrackEventsTheta0_10\",\"RateTrackEventsTheta10_20\", \"RateTrackEventsTheta20_30\", \"RateTrackEventsTheta30_40\",\"RateTrackEventsTheta60_90\",\"FractionTrackEvents\",\"FractionTrackEventsErr\",\"IndoorTemperature\",\"OutdoorTemperature\", \"Pressure\",\"AvTOTBot\",\"AvTOTMid\",\"AvTOTTop\",\"UniqueRunId\"]"
   ]
  },
  {
   "cell_type": "code",
   "execution_count": 20,
   "metadata": {},
   "outputs": [],
   "source": [
    "test1 = test1.pandas.df(Trending_branches)\n",
    "test2 = test2.pandas.df(Trending_branches)\n",
    "test3 = test3.pandas.df(Trending_branches)"
   ]
  },
  {
   "cell_type": "code",
   "execution_count": 23,
   "metadata": {},
   "outputs": [],
   "source": [
    "frames = [test1,test2,test3]"
   ]
  },
  {
   "cell_type": "code",
   "execution_count": 24,
   "metadata": {},
   "outputs": [],
   "source": [
    "test = pd.concat(frames)"
   ]
  },
  {
   "cell_type": "code",
   "execution_count": null,
   "metadata": {},
   "outputs": [],
   "source": []
  },
  {
   "cell_type": "code",
   "execution_count": null,
   "metadata": {},
   "outputs": [],
   "source": [
    "test[\"Nanoseconds\"].head()"
   ]
  },
  {
   "cell_type": "code",
   "execution_count": null,
   "metadata": {},
   "outputs": [],
   "source": [
    "plt.hist(test[\"Theta\"],bins=60)\n",
    "plt.show"
   ]
  },
  {
   "cell_type": "code",
   "execution_count": null,
   "metadata": {},
   "outputs": [],
   "source": []
  }
 ],
 "metadata": {
  "kernelspec": {
   "display_name": "Python 3",
   "language": "python",
   "name": "python3"
  },
  "language_info": {
   "codemirror_mode": {
    "name": "ipython",
    "version": 3
   },
   "file_extension": ".py",
   "mimetype": "text/x-python",
   "name": "python",
   "nbconvert_exporter": "python",
   "pygments_lexer": "ipython3",
   "version": "3.7.3"
  }
 },
 "nbformat": 4,
 "nbformat_minor": 2
}
