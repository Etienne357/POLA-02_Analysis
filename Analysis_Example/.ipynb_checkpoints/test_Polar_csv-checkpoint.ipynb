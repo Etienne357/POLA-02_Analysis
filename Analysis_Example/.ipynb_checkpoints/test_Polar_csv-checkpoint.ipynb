{
 "cells": [
  {
   "cell_type": "markdown",
   "metadata": {},
   "source": [
    "This example shows how read the POLA-02 csv files and how to make some plots.  "
   ]
  },
  {
   "cell_type": "code",
   "execution_count": 1,
   "metadata": {},
   "outputs": [
    {
     "data": {
      "text/html": [
       "<style>.container { width:80% !important; }</style>"
      ],
      "text/plain": [
       "<IPython.core.display.HTML object>"
      ]
     },
     "metadata": {},
     "output_type": "display_data"
    }
   ],
   "source": [
    "import pandas as pd\n",
    "import numpy as np\n",
    "import matplotlib.pyplot as plt\n",
    "from IPython.core.display import display, HTML\n",
    "display(HTML(\"<style>.container { width:80% !important; }</style>\"))"
   ]
  },
  {
   "cell_type": "code",
   "execution_count": 2,
   "metadata": {},
   "outputs": [],
   "source": [
    "test_header = pd.read_csv(\"/home/michael/data_polar/POLA-02_2019-09-08_2019-09-09_summary_Header.csv\")\n",
    "test_trending = pd.read_csv(\"/home/michael/data_polar/POLA-02_2019-09-08_2019-09-09_summary_Trending.csv\")\n",
    "test_weather = pd.read_csv(\"/home/michael/data_polar/POLA-02_2019-09-08_2019-09-09_summary_Weather.csv\")"
   ]
  },
  {
   "cell_type": "code",
   "execution_count": 3,
   "metadata": {},
   "outputs": [
    {
     "data": {
      "text/html": [
       "<div>\n",
       "<style scoped>\n",
       "    .dataframe tbody tr th:only-of-type {\n",
       "        vertical-align: middle;\n",
       "    }\n",
       "\n",
       "    .dataframe tbody tr th {\n",
       "        vertical-align: top;\n",
       "    }\n",
       "\n",
       "    .dataframe thead th {\n",
       "        text-align: right;\n",
       "    }\n",
       "</style>\n",
       "<table border=\"1\" class=\"dataframe\">\n",
       "  <thead>\n",
       "    <tr style=\"text-align: right;\">\n",
       "      <th></th>\n",
       "      <th>#RunNumber</th>\n",
       "      <th>RunStart</th>\n",
       "      <th>RunStop</th>\n",
       "      <th>RunDuration</th>\n",
       "      <th>NumEvents</th>\n",
       "      <th>NumHitEvents</th>\n",
       "      <th>NumTrackEvents</th>\n",
       "      <th>NumNoHitEvents</th>\n",
       "      <th>NumNoHitsEvents</th>\n",
       "      <th>NumMalformedEvents</th>\n",
       "      <th>...</th>\n",
       "      <th>Zbottom</th>\n",
       "      <th>Zmiddle</th>\n",
       "      <th>latitude</th>\n",
       "      <th>longitude</th>\n",
       "      <th>altitude</th>\n",
       "      <th>nSatellites</th>\n",
       "      <th>UniqueRunId</th>\n",
       "      <th>DeadChMaskBot</th>\n",
       "      <th>DeadChMaskMid</th>\n",
       "      <th>rtcFake</th>\n",
       "    </tr>\n",
       "  </thead>\n",
       "  <tbody>\n",
       "    <tr>\n",
       "      <td>0</td>\n",
       "      <td>400292246</td>\n",
       "      <td>400292246.0</td>\n",
       "      <td>4.002940e+08</td>\n",
       "      <td>1800.556747</td>\n",
       "      <td>58438</td>\n",
       "      <td>58437</td>\n",
       "      <td>58437</td>\n",
       "      <td>1</td>\n",
       "      <td>1</td>\n",
       "      <td>0</td>\n",
       "      <td>...</td>\n",
       "      <td>0.0</td>\n",
       "      <td>11.0</td>\n",
       "      <td>59.84029</td>\n",
       "      <td>10.67716</td>\n",
       "      <td>69.9</td>\n",
       "      <td>10.215470</td>\n",
       "      <td>57000000000</td>\n",
       "      <td>16761840</td>\n",
       "      <td>16761840</td>\n",
       "      <td>1</td>\n",
       "    </tr>\n",
       "    <tr>\n",
       "      <td>1</td>\n",
       "      <td>400294052</td>\n",
       "      <td>400294052.0</td>\n",
       "      <td>4.002959e+08</td>\n",
       "      <td>1800.364563</td>\n",
       "      <td>58237</td>\n",
       "      <td>58235</td>\n",
       "      <td>58235</td>\n",
       "      <td>2</td>\n",
       "      <td>2</td>\n",
       "      <td>0</td>\n",
       "      <td>...</td>\n",
       "      <td>0.0</td>\n",
       "      <td>11.0</td>\n",
       "      <td>59.84029</td>\n",
       "      <td>10.67716</td>\n",
       "      <td>69.9</td>\n",
       "      <td>9.618787</td>\n",
       "      <td>57000000000</td>\n",
       "      <td>16761840</td>\n",
       "      <td>16761840</td>\n",
       "      <td>4</td>\n",
       "    </tr>\n",
       "    <tr>\n",
       "      <td>2</td>\n",
       "      <td>400295857</td>\n",
       "      <td>400295857.0</td>\n",
       "      <td>4.002977e+08</td>\n",
       "      <td>1800.357124</td>\n",
       "      <td>58066</td>\n",
       "      <td>58066</td>\n",
       "      <td>58066</td>\n",
       "      <td>0</td>\n",
       "      <td>0</td>\n",
       "      <td>0</td>\n",
       "      <td>...</td>\n",
       "      <td>0.0</td>\n",
       "      <td>11.0</td>\n",
       "      <td>59.84029</td>\n",
       "      <td>10.67716</td>\n",
       "      <td>69.9</td>\n",
       "      <td>10.259670</td>\n",
       "      <td>57000000000</td>\n",
       "      <td>16761840</td>\n",
       "      <td>16761840</td>\n",
       "      <td>6</td>\n",
       "    </tr>\n",
       "    <tr>\n",
       "      <td>3</td>\n",
       "      <td>400297660</td>\n",
       "      <td>400297660.0</td>\n",
       "      <td>4.002995e+08</td>\n",
       "      <td>1800.436444</td>\n",
       "      <td>58799</td>\n",
       "      <td>58798</td>\n",
       "      <td>58798</td>\n",
       "      <td>1</td>\n",
       "      <td>1</td>\n",
       "      <td>0</td>\n",
       "      <td>...</td>\n",
       "      <td>0.0</td>\n",
       "      <td>11.0</td>\n",
       "      <td>59.84029</td>\n",
       "      <td>10.67716</td>\n",
       "      <td>69.9</td>\n",
       "      <td>11.988950</td>\n",
       "      <td>57000000000</td>\n",
       "      <td>16761840</td>\n",
       "      <td>16761840</td>\n",
       "      <td>12</td>\n",
       "    </tr>\n",
       "    <tr>\n",
       "      <td>4</td>\n",
       "      <td>400299466</td>\n",
       "      <td>400299466.0</td>\n",
       "      <td>4.003013e+08</td>\n",
       "      <td>1800.438759</td>\n",
       "      <td>58004</td>\n",
       "      <td>58002</td>\n",
       "      <td>58002</td>\n",
       "      <td>2</td>\n",
       "      <td>2</td>\n",
       "      <td>0</td>\n",
       "      <td>...</td>\n",
       "      <td>0.0</td>\n",
       "      <td>11.0</td>\n",
       "      <td>59.84029</td>\n",
       "      <td>10.67716</td>\n",
       "      <td>69.9</td>\n",
       "      <td>11.906080</td>\n",
       "      <td>57000000000</td>\n",
       "      <td>16761840</td>\n",
       "      <td>16761840</td>\n",
       "      <td>3</td>\n",
       "    </tr>\n",
       "  </tbody>\n",
       "</table>\n",
       "<p>5 rows × 27 columns</p>\n",
       "</div>"
      ],
      "text/plain": [
       "   #RunNumber     RunStart       RunStop  RunDuration  NumEvents  \\\n",
       "0   400292246  400292246.0  4.002940e+08  1800.556747      58438   \n",
       "1   400294052  400294052.0  4.002959e+08  1800.364563      58237   \n",
       "2   400295857  400295857.0  4.002977e+08  1800.357124      58066   \n",
       "3   400297660  400297660.0  4.002995e+08  1800.436444      58799   \n",
       "4   400299466  400299466.0  4.003013e+08  1800.438759      58004   \n",
       "\n",
       "   NumHitEvents  NumTrackEvents  NumNoHitEvents  NumNoHitsEvents  \\\n",
       "0         58437           58437               1                1   \n",
       "1         58235           58235               2                2   \n",
       "2         58066           58066               0                0   \n",
       "3         58798           58798               1                1   \n",
       "4         58002           58002               2                2   \n",
       "\n",
       "   NumMalformedEvents  ...  Zbottom Zmiddle  latitude  longitude  altitude  \\\n",
       "0                   0  ...      0.0    11.0  59.84029   10.67716      69.9   \n",
       "1                   0  ...      0.0    11.0  59.84029   10.67716      69.9   \n",
       "2                   0  ...      0.0    11.0  59.84029   10.67716      69.9   \n",
       "3                   0  ...      0.0    11.0  59.84029   10.67716      69.9   \n",
       "4                   0  ...      0.0    11.0  59.84029   10.67716      69.9   \n",
       "\n",
       "   nSatellites  UniqueRunId  DeadChMaskBot  DeadChMaskMid  rtcFake  \n",
       "0    10.215470  57000000000       16761840       16761840        1  \n",
       "1     9.618787  57000000000       16761840       16761840        4  \n",
       "2    10.259670  57000000000       16761840       16761840        6  \n",
       "3    11.988950  57000000000       16761840       16761840       12  \n",
       "4    11.906080  57000000000       16761840       16761840        3  \n",
       "\n",
       "[5 rows x 27 columns]"
      ]
     },
     "execution_count": 3,
     "metadata": {},
     "output_type": "execute_result"
    }
   ],
   "source": [
    "test_header.head()"
   ]
  },
  {
   "cell_type": "code",
   "execution_count": 4,
   "metadata": {},
   "outputs": [
    {
     "data": {
      "text/html": [
       "<div>\n",
       "<style scoped>\n",
       "    .dataframe tbody tr th:only-of-type {\n",
       "        vertical-align: middle;\n",
       "    }\n",
       "\n",
       "    .dataframe tbody tr th {\n",
       "        vertical-align: top;\n",
       "    }\n",
       "\n",
       "    .dataframe thead th {\n",
       "        text-align: right;\n",
       "    }\n",
       "</style>\n",
       "<table border=\"1\" class=\"dataframe\">\n",
       "  <thead>\n",
       "    <tr style=\"text-align: right;\">\n",
       "      <th></th>\n",
       "      <th>#BinStart</th>\n",
       "      <th>BinEnd</th>\n",
       "      <th>RateHitEvents</th>\n",
       "      <th>RateHitEventsErr</th>\n",
       "      <th>RateTrackEvents</th>\n",
       "      <th>RateTrackEventsErr</th>\n",
       "      <th>RateTrackEventsTheta0_10</th>\n",
       "      <th>RateTrackEventsTheta10_20</th>\n",
       "      <th>RateTrackEventsTheta20_30</th>\n",
       "      <th>RateTrackEventsTheta30_40</th>\n",
       "      <th>...</th>\n",
       "      <th>RateTrackEventsTheta60_90</th>\n",
       "      <th>FractionTrackEvents</th>\n",
       "      <th>FractionTrackEventsErr</th>\n",
       "      <th>IndoorTemperature</th>\n",
       "      <th>OutdoorTemperature</th>\n",
       "      <th>Pressure</th>\n",
       "      <th>AvTOTBot</th>\n",
       "      <th>AvTOTMid</th>\n",
       "      <th>AvTOTTop</th>\n",
       "      <th>UniqueRunId</th>\n",
       "    </tr>\n",
       "  </thead>\n",
       "  <tbody>\n",
       "    <tr>\n",
       "      <td>0</td>\n",
       "      <td>400292246.0</td>\n",
       "      <td>400292307.0</td>\n",
       "      <td>32.13115</td>\n",
       "      <td>0.725769</td>\n",
       "      <td>32.13115</td>\n",
       "      <td>0.725769</td>\n",
       "      <td>25.19672</td>\n",
       "      <td>0.0</td>\n",
       "      <td>0.0</td>\n",
       "      <td>0.0</td>\n",
       "      <td>...</td>\n",
       "      <td>6.934426</td>\n",
       "      <td>1.0</td>\n",
       "      <td>0.0</td>\n",
       "      <td>19.58333</td>\n",
       "      <td>55.4222</td>\n",
       "      <td>1019.367</td>\n",
       "      <td>0.076265</td>\n",
       "      <td>0.149667</td>\n",
       "      <td>0.0</td>\n",
       "      <td>57000000000</td>\n",
       "    </tr>\n",
       "    <tr>\n",
       "      <td>1</td>\n",
       "      <td>400292307.0</td>\n",
       "      <td>400292368.0</td>\n",
       "      <td>32.19672</td>\n",
       "      <td>0.726509</td>\n",
       "      <td>32.19672</td>\n",
       "      <td>0.726509</td>\n",
       "      <td>25.27869</td>\n",
       "      <td>0.0</td>\n",
       "      <td>0.0</td>\n",
       "      <td>0.0</td>\n",
       "      <td>...</td>\n",
       "      <td>6.918033</td>\n",
       "      <td>1.0</td>\n",
       "      <td>0.0</td>\n",
       "      <td>19.58333</td>\n",
       "      <td>55.4222</td>\n",
       "      <td>1019.367</td>\n",
       "      <td>0.068525</td>\n",
       "      <td>0.172055</td>\n",
       "      <td>0.0</td>\n",
       "      <td>57000000000</td>\n",
       "    </tr>\n",
       "    <tr>\n",
       "      <td>2</td>\n",
       "      <td>400292368.0</td>\n",
       "      <td>400292429.0</td>\n",
       "      <td>33.08197</td>\n",
       "      <td>0.736429</td>\n",
       "      <td>33.08197</td>\n",
       "      <td>0.736429</td>\n",
       "      <td>26.09836</td>\n",
       "      <td>0.0</td>\n",
       "      <td>0.0</td>\n",
       "      <td>0.0</td>\n",
       "      <td>...</td>\n",
       "      <td>6.983606</td>\n",
       "      <td>1.0</td>\n",
       "      <td>0.0</td>\n",
       "      <td>19.58333</td>\n",
       "      <td>55.4222</td>\n",
       "      <td>1019.367</td>\n",
       "      <td>0.076144</td>\n",
       "      <td>0.164812</td>\n",
       "      <td>0.0</td>\n",
       "      <td>57000000000</td>\n",
       "    </tr>\n",
       "    <tr>\n",
       "      <td>3</td>\n",
       "      <td>400292429.0</td>\n",
       "      <td>400292490.0</td>\n",
       "      <td>33.08197</td>\n",
       "      <td>0.736429</td>\n",
       "      <td>33.08197</td>\n",
       "      <td>0.736429</td>\n",
       "      <td>25.86885</td>\n",
       "      <td>0.0</td>\n",
       "      <td>0.0</td>\n",
       "      <td>0.0</td>\n",
       "      <td>...</td>\n",
       "      <td>7.213115</td>\n",
       "      <td>1.0</td>\n",
       "      <td>0.0</td>\n",
       "      <td>19.58333</td>\n",
       "      <td>55.4222</td>\n",
       "      <td>1019.367</td>\n",
       "      <td>0.221070</td>\n",
       "      <td>0.265462</td>\n",
       "      <td>0.0</td>\n",
       "      <td>57000000000</td>\n",
       "    </tr>\n",
       "    <tr>\n",
       "      <td>4</td>\n",
       "      <td>400292490.0</td>\n",
       "      <td>400292551.0</td>\n",
       "      <td>32.49180</td>\n",
       "      <td>0.729830</td>\n",
       "      <td>32.49180</td>\n",
       "      <td>0.729830</td>\n",
       "      <td>24.77049</td>\n",
       "      <td>0.0</td>\n",
       "      <td>0.0</td>\n",
       "      <td>0.0</td>\n",
       "      <td>...</td>\n",
       "      <td>7.721312</td>\n",
       "      <td>1.0</td>\n",
       "      <td>0.0</td>\n",
       "      <td>19.58333</td>\n",
       "      <td>55.4222</td>\n",
       "      <td>1019.367</td>\n",
       "      <td>0.142001</td>\n",
       "      <td>0.174481</td>\n",
       "      <td>0.0</td>\n",
       "      <td>57000000000</td>\n",
       "    </tr>\n",
       "  </tbody>\n",
       "</table>\n",
       "<p>5 rows × 22 columns</p>\n",
       "</div>"
      ],
      "text/plain": [
       "     #BinStart       BinEnd  RateHitEvents  RateHitEventsErr  RateTrackEvents  \\\n",
       "0  400292246.0  400292307.0       32.13115          0.725769         32.13115   \n",
       "1  400292307.0  400292368.0       32.19672          0.726509         32.19672   \n",
       "2  400292368.0  400292429.0       33.08197          0.736429         33.08197   \n",
       "3  400292429.0  400292490.0       33.08197          0.736429         33.08197   \n",
       "4  400292490.0  400292551.0       32.49180          0.729830         32.49180   \n",
       "\n",
       "   RateTrackEventsErr  RateTrackEventsTheta0_10  RateTrackEventsTheta10_20  \\\n",
       "0            0.725769                  25.19672                        0.0   \n",
       "1            0.726509                  25.27869                        0.0   \n",
       "2            0.736429                  26.09836                        0.0   \n",
       "3            0.736429                  25.86885                        0.0   \n",
       "4            0.729830                  24.77049                        0.0   \n",
       "\n",
       "   RateTrackEventsTheta20_30  RateTrackEventsTheta30_40  ...  \\\n",
       "0                        0.0                        0.0  ...   \n",
       "1                        0.0                        0.0  ...   \n",
       "2                        0.0                        0.0  ...   \n",
       "3                        0.0                        0.0  ...   \n",
       "4                        0.0                        0.0  ...   \n",
       "\n",
       "   RateTrackEventsTheta60_90  FractionTrackEvents  FractionTrackEventsErr  \\\n",
       "0                   6.934426                  1.0                     0.0   \n",
       "1                   6.918033                  1.0                     0.0   \n",
       "2                   6.983606                  1.0                     0.0   \n",
       "3                   7.213115                  1.0                     0.0   \n",
       "4                   7.721312                  1.0                     0.0   \n",
       "\n",
       "   IndoorTemperature  OutdoorTemperature  Pressure  AvTOTBot  AvTOTMid  \\\n",
       "0           19.58333             55.4222  1019.367  0.076265  0.149667   \n",
       "1           19.58333             55.4222  1019.367  0.068525  0.172055   \n",
       "2           19.58333             55.4222  1019.367  0.076144  0.164812   \n",
       "3           19.58333             55.4222  1019.367  0.221070  0.265462   \n",
       "4           19.58333             55.4222  1019.367  0.142001  0.174481   \n",
       "\n",
       "   AvTOTTop  UniqueRunId  \n",
       "0       0.0  57000000000  \n",
       "1       0.0  57000000000  \n",
       "2       0.0  57000000000  \n",
       "3       0.0  57000000000  \n",
       "4       0.0  57000000000  \n",
       "\n",
       "[5 rows x 22 columns]"
      ]
     },
     "execution_count": 4,
     "metadata": {},
     "output_type": "execute_result"
    }
   ],
   "source": [
    "test_trending.head()"
   ]
  },
  {
   "cell_type": "code",
   "execution_count": 5,
   "metadata": {},
   "outputs": [
    {
     "data": {
      "text/html": [
       "<div>\n",
       "<style scoped>\n",
       "    .dataframe tbody tr th:only-of-type {\n",
       "        vertical-align: middle;\n",
       "    }\n",
       "\n",
       "    .dataframe tbody tr th {\n",
       "        vertical-align: top;\n",
       "    }\n",
       "\n",
       "    .dataframe thead th {\n",
       "        text-align: right;\n",
       "    }\n",
       "</style>\n",
       "<table border=\"1\" class=\"dataframe\">\n",
       "  <thead>\n",
       "    <tr style=\"text-align: right;\">\n",
       "      <th></th>\n",
       "      <th>#Seconds</th>\n",
       "      <th>IndoorTemperature</th>\n",
       "      <th>OutdoorTemperature</th>\n",
       "      <th>Pressure</th>\n",
       "      <th>UniqueRunId</th>\n",
       "    </tr>\n",
       "  </thead>\n",
       "  <tbody>\n",
       "    <tr>\n",
       "      <td>0</td>\n",
       "      <td>400292246.0</td>\n",
       "      <td>19.58333</td>\n",
       "      <td>55.42220</td>\n",
       "      <td>1019.367</td>\n",
       "      <td>57000000000</td>\n",
       "    </tr>\n",
       "    <tr>\n",
       "      <td>1</td>\n",
       "      <td>400294052.0</td>\n",
       "      <td>19.11042</td>\n",
       "      <td>47.98494</td>\n",
       "      <td>1019.596</td>\n",
       "      <td>57000000000</td>\n",
       "    </tr>\n",
       "    <tr>\n",
       "      <td>2</td>\n",
       "      <td>400295857.0</td>\n",
       "      <td>20.43958</td>\n",
       "      <td>52.40007</td>\n",
       "      <td>1019.685</td>\n",
       "      <td>57000000000</td>\n",
       "    </tr>\n",
       "    <tr>\n",
       "      <td>3</td>\n",
       "      <td>400297660.0</td>\n",
       "      <td>20.02708</td>\n",
       "      <td>53.14738</td>\n",
       "      <td>1019.743</td>\n",
       "      <td>57000000000</td>\n",
       "    </tr>\n",
       "    <tr>\n",
       "      <td>4</td>\n",
       "      <td>400299466.0</td>\n",
       "      <td>19.40833</td>\n",
       "      <td>54.94990</td>\n",
       "      <td>1019.889</td>\n",
       "      <td>57000000000</td>\n",
       "    </tr>\n",
       "  </tbody>\n",
       "</table>\n",
       "</div>"
      ],
      "text/plain": [
       "      #Seconds  IndoorTemperature  OutdoorTemperature  Pressure  UniqueRunId\n",
       "0  400292246.0           19.58333            55.42220  1019.367  57000000000\n",
       "1  400294052.0           19.11042            47.98494  1019.596  57000000000\n",
       "2  400295857.0           20.43958            52.40007  1019.685  57000000000\n",
       "3  400297660.0           20.02708            53.14738  1019.743  57000000000\n",
       "4  400299466.0           19.40833            54.94990  1019.889  57000000000"
      ]
     },
     "execution_count": 5,
     "metadata": {},
     "output_type": "execute_result"
    }
   ],
   "source": [
    "test_weather.head()"
   ]
  },
  {
   "cell_type": "code",
   "execution_count": 6,
   "metadata": {},
   "outputs": [
    {
     "data": {
      "text/plain": [
       "<function matplotlib.pyplot.show(*args, **kw)>"
      ]
     },
     "execution_count": 6,
     "metadata": {},
     "output_type": "execute_result"
    },
    {
     "data": {
      "image/png": "[encoded data removed]",
      "text/plain": [
       "<Figure size 432x288 with 1 Axes>"
      ]
     },
     "metadata": {
      "needs_background": "light"
     },
     "output_type": "display_data"
    }
   ],
   "source": [
    "plt.hist(test_header[\"NumTrackEvents\"],bins=30)\n",
    "plt.show"
   ]
  },
  {
   "cell_type": "code",
   "execution_count": 7,
   "metadata": {},
   "outputs": [
    {
     "data": {
      "text/plain": [
       "[<matplotlib.lines.Line2D at 0x7f5b40bc49b0>]"
      ]
     },
     "execution_count": 7,
     "metadata": {},
     "output_type": "execute_result"
    },
    {
     "data": {
      "image/png": "[encoded data removed]",
      "text/plain": [
       "<Figure size 432x288 with 1 Axes>"
      ]
     },
     "metadata": {
      "needs_background": "light"
     },
     "output_type": "display_data"
    }
   ],
   "source": [
    "plt.plot(test_weather[\"OutdoorTemperature\"], test_weather[\"IndoorTemperature\"], 'bo')"
   ]
  },
  {
   "cell_type": "code",
   "execution_count": 8,
   "metadata": {},
   "outputs": [
    {
     "data": {
      "text/plain": [
       "[<matplotlib.lines.Line2D at 0x7f5b40b3e940>]"
      ]
     },
     "execution_count": 8,
     "metadata": {},
     "output_type": "execute_result"
    },
    {
     "data": {
      "image/png": "[encoded data removed]",
      "text/plain": [
       "<Figure size 432x288 with 1 Axes>"
      ]
     },
     "metadata": {
      "needs_background": "light"
     },
     "output_type": "display_data"
    }
   ],
   "source": [
    "plt.plot(test_trending[\"RateTrackEventsTheta0_10\"], test_trending[\"RateHitEvents\"], 'bo')"
   ]
  },
  {
   "cell_type": "code",
   "execution_count": 9,
   "metadata": {},
   "outputs": [
    {
     "data": {
      "image/png": "[encoded data removed]",
      "text/plain": [
       "<Figure size 432x288 with 1 Axes>"
      ]
     },
     "metadata": {
      "needs_background": "light"
     },
     "output_type": "display_data"
    },
    {
     "name": "stdout",
     "output_type": "stream",
     "text": [
      "The intercept alpha: \n",
      " 3.522330640218314\n",
      "Coefficient beta (gradient) : \n",
      " [1.14733746]\n"
     ]
    }
   ],
   "source": [
    "from sklearn import linear_model\n",
    "from sklearn.model_selection import train_test_split\n",
    "\n",
    "linreg = linear_model.LinearRegression()\n",
    "linreg.fit(test_trending[[\"RateTrackEventsTheta0_10\"]],test_trending.RateHitEvents)\n",
    "xnew = np.array([[15],[28]])\n",
    "Y_pred = linreg.predict(xnew)\n",
    "plt.plot(xnew,Y_pred, \"r-\")\n",
    "plt.plot(test_trending[[\"RateTrackEventsTheta0_10\"]], test_trending[\"RateHitEvents\"],'bo')\n",
    "#plt.axis([0,1.0,0, 5.0])\n",
    "plt.xlabel(r'RateTrackEventsTheta0_10')\n",
    "plt.ylabel(r'RateHitEvents')\n",
    "plt.title(r'Simple Linear Regression')\n",
    "plt.show()\n",
    "from sklearn.metrics import mean_squared_error, r2_score, mean_squared_log_error, mean_absolute_error\n",
    "\n",
    "print('The intercept alpha: \\n', linreg.intercept_)\n",
    "print('Coefficient beta (gradient) : \\n', linreg.coef_)"
   ]
  },
  {
   "cell_type": "code",
   "execution_count": null,
   "metadata": {},
   "outputs": [],
   "source": []
  }
 ],
 "metadata": {
  "kernelspec": {
   "display_name": "Python 3",
   "language": "python",
   "name": "python3"
  },
  "language_info": {
   "codemirror_mode": {
    "name": "ipython",
    "version": 3
   },
   "file_extension": ".py",
   "mimetype": "text/x-python",
   "name": "python",
   "nbconvert_exporter": "python",
   "pygments_lexer": "ipython3",
   "version": "3.7.3"
  }
 },
 "nbformat": 4,
 "nbformat_minor": 2
}
